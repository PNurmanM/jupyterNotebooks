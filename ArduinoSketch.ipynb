{
 "cells": [
  {
   "cell_type": "code",
   "execution_count": 1,
   "id": "5668e654-8a3d-4337-83db-b01e0099bf78",
   "metadata": {},
   "outputs": [
    {
     "name": "stdout",
     "output_type": "stream",
     "text": [
      "Collecting pyserial\n",
      "  Obtaining dependency information for pyserial from https://files.pythonhosted.org/packages/07/bc/587a445451b253b285629263eb51c2d8e9bcea4fc97826266d186f96f558/pyserial-3.5-py2.py3-none-any.whl.metadata\n",
      "  Downloading pyserial-3.5-py2.py3-none-any.whl.metadata (1.6 kB)\n",
      "Downloading pyserial-3.5-py2.py3-none-any.whl (90 kB)\n",
      "   ---------------------------------------- 0.0/90.6 kB ? eta -:--:--\n",
      "   ---- ----------------------------------- 10.2/90.6 kB ? eta -:--:--\n",
      "   ------------------ --------------------- 41.0/90.6 kB 487.6 kB/s eta 0:00:01\n",
      "   ---------------------------------------- 90.6/90.6 kB 854.7 kB/s eta 0:00:00\n",
      "Installing collected packages: pyserial\n",
      "Successfully installed pyserial-3.5\n"
     ]
    },
    {
     "name": "stderr",
     "output_type": "stream",
     "text": [
      "\n",
      "[notice] A new release of pip is available: 23.2.1 -> 24.1\n",
      "[notice] To update, run: python.exe -m pip install --upgrade pip\n"
     ]
    }
   ],
   "source": [
    "!pip install pyserial"
   ]
  },
  {
   "cell_type": "code",
   "execution_count": 9,
   "id": "e44ff36b-f84f-4364-a721-a623cfeeb1c2",
   "metadata": {},
   "outputs": [],
   "source": [
    "import serial.tools.list_ports\n",
    "ports = serial.tools.list_ports.comports()\n",
    "serialInst = serial.Serial()\n",
    "portsList = []"
   ]
  },
  {
   "cell_type": "code",
   "execution_count": 10,
   "id": "57c770e9-8681-4857-b140-e4ea0a2a0d10",
   "metadata": {},
   "outputs": [
    {
     "name": "stdout",
     "output_type": "stream",
     "text": [
      "COM5 - Arduino Uno (COM5)\n"
     ]
    }
   ],
   "source": [
    "for one in ports:\n",
    "    portsList.append(str(one))\n",
    "    print(str(one))"
   ]
  },
  {
   "cell_type": "code",
   "execution_count": 11,
   "id": "b51c83c0-5715-4215-800a-dc005d0d9bb5",
   "metadata": {},
   "outputs": [
    {
     "name": "stdin",
     "output_type": "stream",
     "text": [
      "Select Com Port for Arduino #:  5\n"
     ]
    }
   ],
   "source": [
    "com = input(\"Select Com Port for Arduino #: \")"
   ]
  },
  {
   "cell_type": "code",
   "execution_count": 12,
   "id": "e72ada92-2807-457e-b1e6-b8fbf623efce",
   "metadata": {},
   "outputs": [
    {
     "name": "stdout",
     "output_type": "stream",
     "text": [
      "COM5\n"
     ]
    }
   ],
   "source": [
    "for i in range(len(portsList)):\n",
    "    if portsList[i].startswith(\"COM\" + str(com)):\n",
    "        use = \"COM\" + str(com)\n",
    "        print(use)\n",
    "    else:\n",
    "        print(\"Invalid COM Port\")"
   ]
  },
  {
   "cell_type": "code",
   "execution_count": 13,
   "id": "e078f694-cff1-471e-b50c-f35e26ed3a50",
   "metadata": {},
   "outputs": [],
   "source": [
    "serialInst.baudrate = 115200\n",
    "serialInst.port = use\n",
    "serialInst.open()"
   ]
  },
  {
   "cell_type": "code",
   "execution_count": 14,
   "id": "648d034b-a9ac-45f5-9098-60036aa16cd0",
   "metadata": {
    "scrolled": true
   },
   "outputs": [
    {
     "name": "stdin",
     "output_type": "stream",
     "text": [
      "Enter a value between 0, 180, or exit:  120\n",
      "Enter a value between 0, 180, or exit:  100\n",
      "Enter a value between 0, 180, or exit:  12\n",
      "Enter a value between 0, 180, or exit:  22\n",
      "Enter a value between 0, 180, or exit:  33\n",
      "Enter a value between 0, 180, or exit:  44\n",
      "Enter a value between 0, 180, or exit:  55\n",
      "Enter a value between 0, 180, or exit:  643\n",
      "Enter a value between 0, 180, or exit:  160\n",
      "Enter a value between 0, 180, or exit:  100\n",
      "Enter a value between 0, 180, or exit:  20\n",
      "Enter a value between 0, 180, or exit:  exit\n"
     ]
    }
   ],
   "source": [
    "command = ''\n",
    "while command != 'exit':\n",
    "    command = input(\"Enter a value between 0, 180, or exit: \")\n",
    "    serialInst.write(command.encode('utf-8'))\n"
   ]
  },
  {
   "cell_type": "code",
   "execution_count": 15,
   "id": "fc23659d-27c1-4e9d-96cb-ec9a2cc53708",
   "metadata": {},
   "outputs": [],
   "source": [
    "serialInst.close()"
   ]
  },
  {
   "cell_type": "code",
   "execution_count": null,
   "id": "4d3e0a8b-91ca-4e01-855f-ddb359ed3e0a",
   "metadata": {},
   "outputs": [],
   "source": []
  }
 ],
 "metadata": {
  "kernelspec": {
   "display_name": "Python 3 (ipykernel)",
   "language": "python",
   "name": "python3"
  },
  "language_info": {
   "codemirror_mode": {
    "name": "ipython",
    "version": 3
   },
   "file_extension": ".py",
   "mimetype": "text/x-python",
   "name": "python",
   "nbconvert_exporter": "python",
   "pygments_lexer": "ipython3",
   "version": "3.11.5"
  }
 },
 "nbformat": 4,
 "nbformat_minor": 5
}
